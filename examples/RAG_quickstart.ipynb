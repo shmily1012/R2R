{
 "cells": [
  {
   "cell_type": "markdown",
   "metadata": {},
   "source": [
    "# R2R RAG Quickstart (Linux)\n\n",
    "This notebook shows how to use R2R for Retrieval-Augmented Generation (RAG):\n",
    "- Install the Python SDK\n",
    "- Verify the API is reachable\n",
    "- Ingest a sample document\n",
    "- Run search and RAG\n",
    "- Try the agent for deeper analysis\n\n",
    "To run, start the R2R API separately in a Linux shell."
   ]
  },
  {
   "cell_type": "markdown",
   "metadata": {},
   "source": [
    "## Prerequisites (run in a separate terminal)\n\n",
    "1) Create a Python 3.12 venv and install the server (from this repo):\n",
    "```bash\n",
    "python3.12 -m venv .venv\n",
    "source .venv/bin/activate\n",
    "pip install -e ./py\n",
    "```\n\n",
    "2) Configure your providers (OpenAI-compatible):\n",
    "```bash\n",
    "# Text generation (e.g., LM Studio / OpenAI-compatible)\n",
    "export LMSTUDIO_API_BASE=\"http://<gen-host>/api\"   # or /v1 depending on server\n",
    "export LMSTUDIO_API_KEY=\"<gen-token>\"\n\n",
    "# Embeddings (can be a different OpenAI-compatible base)\n",
    "export OPENAI_API_BASE=\"http://<embed-host>/v1\"\n",
    "export OPENAI_API_KEY=\"<embed-token>\"\n\n",
    "# Postgres (adjust as needed)\n",
    "export R2R_POSTGRES_HOST=localhost\n",
    "export R2R_POSTGRES_USER=r2r\n",
    "export R2R_POSTGRES_PASSWORD=r2rpassword\n",
    "export R2R_POSTGRES_DBNAME=r2r\n",
    "export R2R_PROJECT_NAME=r2r_default\n",
    "```\n\n",
    "Note: Ensure embedding dimensions in config match (see py/r2r/r2r.toml).\n\n",
    "3) Start the API server:\n",
    "```bash\n",
    "export R2R_PORT=8002\n",
    "python -m r2r.serve\n",
    "# Server listens on http://0.0.0.0:8002\n",
    "```\n\n",
    "Then continue here in the notebook."
   ]
  },
  {
   "cell_type": "code",
   "execution_count": null,
   "metadata": {},
   "outputs": [],
   "source": [
    "# Install the Python SDK for the client\n",
    "%pip -q install r2r requests"
   ]
  },
  {
   "cell_type": "code",
   "execution_count": null,
   "metadata": {},
   "outputs": [],
   "source": [
    "# Point to your running R2R server\n",
    "import os\n",
    "BASE_URL = os.getenv('R2R_BASE_URL', 'http://localhost:8002')\n",
    "print('Using BASE_URL =', BASE_URL)"
   ]
  },
  {
   "cell_type": "code",
   "execution_count": null,
   "metadata": {},
   "outputs": [],
   "source": [
    "# Sanity check: hit the OpenAPI spec\n",
    "import requests, json\n",
    "spec_url = f{BASE_URL!r} + '/openapi_spec'\n",
    "try:\n",
    "    r = requests.get(spec_url, timeout=10)\n",
    "    r.raise_for_status()\n",
    "    print('OpenAPI available at', spec_url)\n",
    "    # print a small part of the spec\n",
    "    data = r.json() if r.headers.get('content-type','').startswith('application/json') else r.text\n",
    "    if isinstance(data, dict):\n",
    "        print('Title:', data.get('info', {}).get('title'))\n",
    "    else:\n",
    "        print(str(data)[:200] + '...')\n",
    "except Exception as e:\n",
    "    print('Failed to reach server:', e)\n",
    "    print('Make sure the server is running as described above.')"
   ]
  },
  {
   "cell_type": "code",
   "execution_count": null,
   "metadata": {},
   "outputs": [],
   "source": [
    "# Initialize the client\n",
    "from r2r import R2RClient\n",
    "client = R2RClient(base_url=BASE_URL)\n",
    "client"
   ]
  },
  {
   "cell_type": "markdown",
   "metadata": {},
   "source": [
    "## Ingest a sample document\n\n",
    "You can upload your own `.pdf`, `.txt`, `.md`, etc.\n",
    "Below we create a small `.txt` file and ingest it."
   ]
  },
  {
   "cell_type": "code",
   "execution_count": null,
   "metadata": {},
   "outputs": [],
   "source": [
    "# Create a small sample file\n",
    "sample_path = 'sample_doc.txt'\n",
    "with open(sample_path, 'w', encoding='utf-8') as f:\n",
    "    f.write('DeepSeek R1 is a reasoning model. This file is a simple demo.\\n')\n",
    "    f.write('RAG combines retrieval with generation to produce grounded answers.')\n",
    "print('Wrote', sample_path)\n",
    "\n",
    "# Ingest the file\n",
    "doc = client.documents.create(file_path=sample_path)\n",
    "doc"
   ]
  },
  {
   "cell_type": "code",
   "execution_count": null,
   "metadata": {},
   "outputs": [],
   "source": [
    "# List your documents\n",
    "docs = client.documents.list()\n",
    "len(docs), (docs[0] if docs else None)"
   ]
  },
  {
   "cell_type": "markdown",
   "metadata": {},
   "source": [
    "## Search\n\n",
    "Run a semantic or hybrid search over ingested content."
   ]
  },
  {
   "cell_type": "code",
   "execution_count": null,
   "metadata": {},
   "outputs": [],
   "source": [
    "search_res = client.retrieval.search(query='What is RAG?')\n",
    "search_res"
   ]
  },
  {
   "cell_type": "markdown",
   "metadata": {},
   "source": [
    "## RAG (with citations)\n\n",
    "Ask a question and let R2R retrieve + generate an answer grounded in your documents."
   ]
  },
  {
   "cell_type": "code",
   "execution_count": null,
   "metadata": {},
   "outputs": [],
   "source": [
    "rag_res = client.retrieval.rag(query='Explain RAG briefly.')\n",
    "rag_res"
   ]
  },
  {
   "cell_type": "markdown",
   "metadata": {},
   "source": [
    "## Agentic RAG\n\n",
    "Use the conversational agent with retrieval tools for richer, multi-step answers."
   ]
  },
  {
   "cell_type": "code",
   "execution_count": null,
   "metadata": {},
   "outputs": [],
   "source": [
    "agent_res = client.retrieval.agent(\n",
    "    message={\"role\": \"user\", \"content\": \"Give a short analysis of RAG.\"},\n",
    "    rag_tools=[\"search_file_knowledge\", \"get_file_content\"],\n",
    ")\n",
    "agent_res"
   ]
  },
  {
   "cell_type": "markdown",
   "metadata": {},
   "source": [
    "## Advanced: custom search settings\n\n",
    "You can pass `search_mode` and `search_settings` to control hybrid search, filters, etc." 
   ]
  },
  {
   "cell_type": "code",
   "execution_count": null,
   "metadata": {},
   "outputs": [],
   "source": [
    "advanced = client.retrieval.rag(\n",
    "    query='What does the sample say about RAG?',\n",
    "    search_mode='advanced',\n",
    "    search_settings={\n",
    "        \"use_hybrid_search\": True,\n",
    "        \"hybrid_settings\": {\n",
    "            \"full_text_weight\": 1.0,\n",
    "            \"semantic_weight\": 5.0,\n",
    "            \"full_text_limit\": 50,\n",
    "            \"rrf_k\": 50\n",
    "        }\n",
    "    }\n",
    ")\n",
    "advanced"
   ]
  }
 ],
 "metadata": {
  "kernelspec": {
   "display_name": "Python 3",
   "language": "python",
   "name": "python3"
  },
  "language_info": {
   "name": "python",
   "pygments_lexer": "ipython3"
  }
 },
 "nbformat": 4,
 "nbformat_minor": 5
}

